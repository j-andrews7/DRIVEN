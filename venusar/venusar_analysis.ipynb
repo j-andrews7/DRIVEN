{
 "cells": [
  {
   "cell_type": "markdown",
   "metadata": {},
   "source": [
    "tutorial: https://www.datacamp.com/community/tutorials/tutorial-jupyter-notebook#gs.ztPiMM0\n",
    "\n",
    "cd /data640g1/data/documents/docs/projects/payton_venusar/VENUSAR_DEV/venusar\n",
    "\n",
    "# 19:11:33 - 17:36:16 = 95 minutes 17 seconds run time\n",
    "python3 thresholds.py -fpr 0.001 -m ../../data/HOCOMOCOv10.JASPAR_FORMAT.TF_IDS.txt -o ../../data/HOCOMOCOv10.JASPAR_FORMAT.TF_IDS.fpr_0p001.txt\n",
    "\n",
    "# time to run is inconsequential; under a second\n",
    "python3 tf_expression.py -i ../../data/FLDL_CCCB_RARE_VARIANTS.MERGED.RNA_DP10.RNA_NODUPS.CHIP_MULTIMARK.SORTED.vcf -o 1 -m ../../data/HOCOMOCOv10.JASPAR_FORMAT.TF_IDS.fpr_0p001.txt -e ../../data/ALL_ARRAYS_NORMALIZED_MAXPROBE_LOG2_COORDS.sorted.txt -mo ../../data/HOCOMOCOv10.JASPAR_FORMAT.TF_IDS.fpr_0p001.txt.bed_reduced.txt\n",
    "\n",
    "# runtime ~11 hours with homotypic (without 20170115.02:19:36-20170114.19:10:53 = 7 hours 8 minutes 43 seconds)\n",
    "python3 motifs.py -i ../../data/FLDL_CCCB_RARE_VARIANTS.MERGED.RNA_DP10.RNA_NODUPS.CHIP_MULTIMARK.SORTED.vcf -r ../../data/genome_reference/reference_genome_hg19.fa -m ../../data/HOCOMOCOv10.JASPAR_FORMAT.TF_IDS.fpr_0p001.txt.bed_reduced.txt -o ../../data/output.motif.20170114.vcf -fm -fp -ci ../../data/GM12878.ENCODE.ALL_TFS.bed -co ../../data/output.chip_peaks_output.20170114.bed &> ../../data/0_run_logs/20170114_motifs_run_stdout.txt\n",
    "\n",
    "# 15:27:32 - 14:51:01 = 36 min 27 seconds run time\n",
    "# -i is either output of tf_expression if run after motifs, or motifs if it was run later\n",
    "python3 activity.py -i ../../data/output.motif.20170114.vcf -a ../../data/QN_FLDL_CCCB_K27AC_PEAKS_SIGNAL.bed -ov ../../data/output.activity.20170114.vcf -ob ../../data/output.activity.20170114.bed -th 2 &> ../../data/0_run_logs/20170114_activity_run_stdout.txt\n",
    "\n",
    "# 15:27:45 - 15:27:33 = 12 seconds run time\n",
    "python3 gene_expression.py -i ../../data/output.activity.20170114.vcf -e ../../data/ALL_ARRAYS_NORMALIZED_MAXPROBE_LOG2_COORDS.sorted.txt -ov ../../data/output.gene_expression.20170114.vcf -eth 5 -th 2 &> ../../data/0_run_logs/20170114_gene_expression_run_stdout.txt\n"
   ]
  },
  {
   "cell_type": "code",
   "execution_count": 2,
   "metadata": {
    "collapsed": false
   },
   "outputs": [],
   "source": [
    "import venusar\n",
    "import motif\n",
    "import thresholds\n",
    "import motifs\n",
    "import activity\n",
    "import tf_expression\n",
    "import gene_expression\n"
   ]
  },
  {
   "cell_type": "code",
   "execution_count": 22,
   "metadata": {
    "collapsed": false
   },
   "outputs": [
    {
     "name": "stdout",
     "output_type": "stream",
     "text": [
      "2.0.0\n"
     ]
    },
    {
     "data": {
      "text/html": [
       "<script>requirejs.config({paths: { 'plotly': ['https://cdn.plot.ly/plotly-latest.min']},});if(!window.Plotly) {{require(['plotly'],function(plotly) {window.Plotly=plotly;});}}</script>"
      ],
      "text/plain": [
       "<IPython.core.display.HTML object>"
      ]
     },
     "metadata": {},
     "output_type": "display_data"
    }
   ],
   "source": [
    "# plotly by default wants to put everything in the cloud\n",
    "#    ref: https://plot.ly/python/getting-started/\n",
    "# must run this code before plotly command calls to avoid account setup request and allow local usage\n",
    "#    note: plotly.plotly methods are cloud only (ridiculous should be able to use localhost server)\n",
    "#    instead must use plotly.offline and plotly.iplot\n",
    "#    iplot is jupyter notebook specific\n",
    "# Plotly Offline allows you to create graphs offline and save them locally.\n",
    "#   two methods for plotting offline: plotly.offline.plot() and plotly.offline.iplot().\n",
    "# ref:https://plot.ly/python/offline/\n",
    "#\n",
    "# ref: generally plotly plot ref: https://plot.ly/python/user-guide/\n",
    "\n",
    "#import plotly.plotly as py # cloud only\n",
    "#import plotly.graph_objs as go\n",
    "import plotly\n",
    "#help(plotly.offline.iplot)\n",
    "print( plotly.__version__ )\n",
    "\n",
    "plotly.offline.init_notebook_mode(connected=True)"
   ]
  },
  {
   "cell_type": "code",
   "execution_count": 39,
   "metadata": {
    "collapsed": true
   },
   "outputs": [],
   "source": [
    "motif_f_base='../../data/HOCOMOCOv10.JASPAR_FORMAT.TF_IDS.txt'\n",
    "pc = 0.1\n",
    "th = 0\n",
    "bp = [0.25, 0.25, 0.25, 0.25]\n",
    "motif_set_base = motif.get_motifs(motif_f_base, pc, th, bp)"
   ]
  },
  {
   "cell_type": "code",
   "execution_count": 40,
   "metadata": {
    "collapsed": true
   },
   "outputs": [],
   "source": [
    "motif_f_expressed='../../data/HOCOMOCOv10.JASPAR_FORMAT.TF_IDS.fpr_0p001.txt.bed_reduced.txt'\n",
    "motif_set_expressed = motif.get_motifs(motif_f_expressed, pc, th, bp)\n"
   ]
  },
  {
   "cell_type": "code",
   "execution_count": 41,
   "metadata": {
    "collapsed": false
   },
   "outputs": [
    {
     "name": "stdout",
     "output_type": "stream",
     "text": [
      "length 603\n",
      "length 603\n"
     ]
    }
   ],
   "source": [
    "print( \"length \" + format(len(motif_set_expressed.motifs)) )\n",
    "\n",
    "print( \"length \" + format(motif_set_expressed.length()) )"
   ]
  },
  {
   "cell_type": "code",
   "execution_count": 58,
   "metadata": {
    "collapsed": false
   },
   "outputs": [
    {
     "name": "stdout",
     "output_type": "stream",
     "text": [
      "motif_lengths_base type: <class 'list'> has 641 elements.\n",
      "motif_lengths_expressed type: <class 'list'> has 603 elements.\n",
      "motif_lengths_expressed has 38 fewer elements.\n"
     ]
    }
   ],
   "source": [
    "motif_lengths_base = motif_set_base.element_positions_list(False)\n",
    "motif_lengths_expressed = motif_set_expressed.element_positions_list(False)\n",
    "print( \"motif_lengths_base type: \" + format(type(motif_lengths_base)) + \" has \" + format(len(motif_lengths_base)) + \" elements.\")\n",
    "print( \"motif_lengths_expressed type: \" + format(type(motif_lengths_expressed)) + \" has \" + format(len(motif_lengths_expressed)) + \" elements.\")\n",
    "print( \"motif_lengths_expressed has \" + format(len(motif_lengths_base) - len(motif_lengths_expressed)) + \" fewer elements.\")"
   ]
  },
  {
   "cell_type": "code",
   "execution_count": 46,
   "metadata": {
    "collapsed": false
   },
   "outputs": [
    {
     "data": {
      "text/html": [
       "<div id=\"75c6fac6-d47e-437a-8e35-41bb8c34adfb\" style=\"height: 525px; width: 100%;\" class=\"plotly-graph-div\"></div><script type=\"text/javascript\">require([\"plotly\"], function(Plotly) { window.PLOTLYENV=window.PLOTLYENV || {};window.PLOTLYENV.BASE_URL=\"https://plot.ly\";Plotly.newPlot(\"75c6fac6-d47e-437a-8e35-41bb8c34adfb\", [{\"type\": \"histogram\", \"x\": [9, 18, 12, 11, 12, 17, 15, 10, 14, 14, 22, 7, 13, 12, 8, 13, 14, 11, 9, 9, 12, 11, 11, 13, 13, 18, 17, 10, 12, 18, 10, 17, 11, 16, 11, 13, 12, 9, 20, 14, 12, 25, 9, 14, 15, 8, 8, 13, 12, 11, 12, 13, 11, 17, 20, 15, 9, 12, 13, 15, 17, 11, 13, 11, 13, 11, 11, 8, 19, 20, 14, 21, 7, 11, 13, 16, 8, 10, 16, 14, 15, 20, 11, 11, 11, 14, 10, 10, 14, 10, 12, 13, 12, 9, 18, 11, 11, 11, 11, 17, 13, 14, 17, 14, 11, 9, 12, 11, 12, 12, 13, 12, 13, 20, 13, 14, 9, 9, 17, 18, 18, 7, 17, 9, 11, 22, 11, 14, 8, 13, 11, 17, 16, 20, 12, 10, 11, 13, 11, 11, 11, 11, 13, 11, 13, 17, 15, 15, 15, 19, 9, 11, 11, 17, 11, 12, 10, 13, 13, 12, 19, 13, 16, 13, 9, 13, 9, 9, 12, 12, 10, 13, 19, 10, 11, 11, 9, 17, 14, 7, 17, 17, 14, 11, 15, 7, 11, 10, 11, 11, 11, 13, 14, 10, 11, 12, 11, 11, 15, 16, 12, 9, 20, 13, 12, 12, 16, 12, 17, 9, 11, 12, 16, 13, 12, 11, 17, 11, 7, 15, 17, 11, 11, 15, 14, 14, 14, 14, 15, 14, 14, 15, 12, 11, 12, 13, 11, 10, 11, 10, 15, 14, 11, 10, 15, 14, 13, 10, 11, 19, 11, 12, 11, 15, 14, 10, 11, 11, 11, 11, 8, 11, 10, 11, 8, 12, 20, 14, 17, 16, 20, 10, 15, 12, 19, 11, 7, 11, 16, 9, 12, 11, 11, 9, 19, 12, 12, 11, 13, 17, 19, 11, 15, 10, 8, 9, 11, 7, 13, 13, 11, 18, 18, 18, 19, 18, 21, 9, 22, 21, 7, 22, 10, 8, 11, 22, 11, 17, 7, 13, 16, 13, 12, 13, 13, 11, 16, 11, 11, 16, 10, 11, 19, 11, 16, 19, 18, 7, 17, 18, 11, 10, 7, 8, 11, 7, 9, 13, 9, 17, 8, 12, 11, 7, 12, 12, 13, 9, 9, 10, 15, 14, 15, 7, 17, 14, 11, 11, 13, 13, 14, 13, 10, 12, 11, 7, 9, 13, 11, 19, 11, 9, 11, 10, 14, 19, 14, 19, 8, 18, 8, 13, 13, 17, 14, 18, 9, 9, 10, 10, 13, 18, 11, 14, 11, 11, 21, 12, 8, 15, 9, 20, 16, 19, 11, 20, 12, 17, 18, 7, 13, 12, 21, 8, 11, 11, 14, 15, 15, 14, 9, 11, 11, 11, 13, 11, 10, 18, 13, 13, 17, 13, 10, 9, 16, 14, 14, 10, 17, 17, 14, 13, 15, 16, 13, 11, 13, 7, 14, 17, 9, 14, 14, 16, 13, 7, 15, 17, 7, 7, 21, 17, 17, 7, 11, 20, 7, 12, 12, 12, 22, 12, 22, 14, 15, 20, 11, 12, 13, 22, 11, 11, 11, 17, 10, 13, 11, 13, 13, 17, 17, 12, 12, 10, 13, 11, 8, 7, 7, 16, 8, 7, 18, 19, 16, 16, 16, 13, 12, 8, 16, 16, 11, 19, 11, 22, 20, 22, 14, 17, 12, 13, 16, 11, 13, 18, 9, 11, 11, 22, 15, 15, 11, 11, 13, 9, 11, 19, 12, 11, 13, 19, 22, 20, 17, 12, 25, 24, 20, 8, 12, 14, 15, 13, 14, 15, 11, 16, 13, 11, 16, 22, 14, 11, 10, 9, 16, 7, 11, 22, 17, 10, 17, 10, 17, 11, 10, 12, 11, 7, 11, 10, 19, 18, 16, 16, 7, 19, 14, 11, 13, 12, 11, 13, 14, 11, 17, 21, 17, 15, 13, 11, 12, 14, 11, 19, 9, 9, 9, 15, 22, 11, 22, 15, 12, 19, 14, 9, 24, 12, 13, 15, 18, 16, 20, 11, 19, 14, 11, 20, 12]}], {\"yaxis\": {\"title\": \"Number of TF with Length\"}, \"title\": \"TF Length Histogram after running tf_expression.py\", \"xaxis\": {\"gridwidth\": 2, \"zeroline\": false, \"ticklen\": 5, \"title\": \"TF Length\"}}, {\"showLink\": true, \"linkText\": \"Export to plot.ly\"})});</script>"
      ],
      "text/plain": [
       "<IPython.core.display.HTML object>"
      ]
     },
     "metadata": {},
     "output_type": "display_data"
    }
   ],
   "source": [
    "\n",
    "# ref: https://plot.ly/python/histograms/\n",
    "\n",
    "data = [\n",
    "    plotly.graph_objs.Histogram(\n",
    "        x=motif_lengths_base\n",
    "    )\n",
    "]\n",
    "\n",
    "layout = plotly.graph_objs.Layout(\n",
    "    title='TF Length Histogram after running tf_expression.py',\n",
    "    xaxis=dict(\n",
    "        title='TF Length',\n",
    "        ticklen=5,\n",
    "        zeroline=False,\n",
    "        gridwidth=2,\n",
    "    ),\n",
    "    yaxis={'title':'Number of TF with Length'}\n",
    "    )\n",
    "#plotly.offline.iplot(data)  # basic plot\n",
    "go_figure = plotly.graph_objs.Figure(data=data, layout=layout)\n",
    "plotly.offline.iplot(go_figure)"
   ]
  },
  {
   "cell_type": "code",
   "execution_count": 62,
   "metadata": {
    "collapsed": false
   },
   "outputs": [
    {
     "data": {
      "text/html": [
       "<div id=\"247b6b3d-cfc3-4472-acb5-2a90890a81de\" style=\"height: 525px; width: 100%;\" class=\"plotly-graph-div\"></div><script type=\"text/javascript\">require([\"plotly\"], function(Plotly) { window.PLOTLYENV=window.PLOTLYENV || {};window.PLOTLYENV.BASE_URL=\"https://plot.ly\";Plotly.newPlot(\"247b6b3d-cfc3-4472-acb5-2a90890a81de\", [{\"opacity\": 0.75, \"type\": \"histogram\", \"x\": [9, 18, 12, 11, 12, 17, 15, 10, 14, 14, 22, 7, 13, 12, 8, 13, 14, 11, 9, 9, 12, 11, 11, 13, 13, 18, 17, 10, 12, 18, 10, 17, 11, 16, 11, 13, 12, 9, 20, 14, 12, 25, 9, 14, 15, 8, 8, 13, 12, 11, 12, 13, 11, 17, 20, 15, 9, 12, 13, 15, 17, 11, 13, 11, 13, 11, 11, 8, 19, 20, 14, 21, 7, 11, 13, 16, 8, 10, 16, 14, 15, 20, 11, 11, 11, 14, 10, 10, 14, 10, 12, 13, 12, 9, 18, 11, 11, 11, 11, 17, 13, 14, 17, 14, 11, 9, 12, 11, 12, 12, 13, 12, 13, 20, 13, 14, 9, 9, 17, 18, 18, 7, 17, 9, 11, 22, 11, 14, 8, 13, 11, 17, 16, 20, 12, 10, 11, 13, 11, 11, 11, 11, 13, 11, 13, 17, 15, 15, 15, 19, 9, 11, 11, 17, 11, 12, 10, 13, 13, 12, 19, 13, 16, 13, 9, 13, 9, 9, 12, 12, 10, 13, 19, 10, 11, 11, 9, 17, 14, 7, 17, 17, 14, 11, 15, 7, 11, 10, 11, 11, 11, 13, 14, 10, 11, 12, 11, 11, 15, 16, 12, 9, 20, 13, 12, 12, 16, 12, 17, 9, 11, 12, 16, 13, 12, 11, 17, 11, 7, 15, 17, 11, 11, 15, 14, 14, 14, 14, 15, 14, 14, 15, 12, 11, 12, 13, 11, 10, 11, 10, 15, 14, 11, 10, 15, 14, 13, 10, 11, 19, 11, 12, 11, 15, 14, 10, 11, 11, 11, 11, 8, 11, 10, 11, 8, 12, 20, 14, 17, 16, 20, 10, 15, 12, 19, 11, 7, 11, 16, 9, 12, 11, 11, 9, 19, 12, 12, 11, 13, 17, 19, 11, 15, 10, 8, 9, 11, 7, 13, 13, 11, 18, 18, 18, 19, 18, 21, 9, 22, 21, 7, 22, 10, 8, 11, 22, 11, 17, 7, 13, 16, 13, 12, 13, 13, 11, 16, 11, 11, 16, 10, 11, 19, 11, 16, 19, 18, 7, 17, 18, 11, 10, 7, 8, 11, 7, 9, 13, 9, 17, 8, 12, 11, 7, 12, 12, 13, 9, 9, 10, 15, 14, 15, 7, 17, 14, 11, 11, 13, 13, 14, 13, 10, 12, 11, 7, 9, 13, 11, 19, 11, 9, 11, 10, 14, 19, 14, 19, 8, 18, 8, 13, 13, 17, 14, 18, 9, 9, 10, 10, 13, 18, 11, 14, 11, 11, 21, 12, 8, 15, 9, 20, 16, 19, 11, 20, 12, 17, 18, 7, 13, 12, 21, 8, 11, 11, 14, 15, 15, 14, 9, 11, 11, 11, 13, 11, 10, 18, 13, 13, 17, 13, 10, 9, 16, 14, 14, 10, 17, 17, 14, 13, 15, 16, 13, 11, 13, 7, 14, 17, 9, 14, 14, 16, 13, 7, 15, 17, 7, 7, 21, 17, 17, 7, 11, 20, 7, 12, 12, 12, 22, 12, 22, 14, 15, 20, 11, 12, 13, 22, 11, 11, 11, 17, 10, 13, 11, 13, 13, 17, 17, 12, 12, 10, 13, 11, 8, 7, 7, 16, 8, 7, 18, 19, 16, 16, 16, 13, 12, 8, 16, 16, 11, 19, 11, 22, 20, 22, 14, 17, 12, 13, 16, 11, 13, 18, 9, 11, 11, 22, 15, 15, 11, 11, 13, 9, 11, 19, 12, 11, 13, 19, 22, 20, 17, 12, 25, 24, 20, 8, 12, 14, 15, 13, 14, 15, 11, 16, 13, 11, 16, 22, 14, 11, 10, 9, 16, 7, 11, 22, 17, 10, 17, 10, 17, 11, 10, 12, 11, 7, 11, 10, 19, 18, 16, 16, 7, 19, 14, 11, 13, 12, 11, 13, 14, 11, 17, 21, 17, 15, 13, 11, 12, 14, 11, 19, 9, 9, 9, 15, 22, 11, 22, 15, 12, 19, 14, 9, 24, 12, 13, 15, 18, 16, 20, 11, 19, 14, 11, 20, 12], \"name\": \"All TF\"}], {\"yaxis\": {\"title\": \"Number of TF with Length\"}, \"title\": \"TF Length Histogram (all TF)\", \"xaxis\": {\"gridwidth\": 2, \"zeroline\": false, \"ticklen\": 5, \"title\": \"TF Length\"}}, {\"showLink\": true, \"linkText\": \"Export to plot.ly\"})});</script>"
      ],
      "text/plain": [
       "<IPython.core.display.HTML object>"
      ]
     },
     "metadata": {},
     "output_type": "display_data"
    },
    {
     "data": {
      "text/html": [
       "<div id=\"048cbfc9-fb59-4f25-9764-571c4a43de20\" style=\"height: 525px; width: 100%;\" class=\"plotly-graph-div\"></div><script type=\"text/javascript\">require([\"plotly\"], function(Plotly) { window.PLOTLYENV=window.PLOTLYENV || {};window.PLOTLYENV.BASE_URL=\"https://plot.ly\";Plotly.newPlot(\"048cbfc9-fb59-4f25-9764-571c4a43de20\", [{\"opacity\": 0.75, \"type\": \"histogram\", \"x\": [9, 18, 12, 11, 12, 17, 15, 10, 14, 14, 22, 7, 13, 12, 8, 13, 14, 11, 9, 9, 12, 11, 11, 13, 13, 18, 17, 10, 12, 18, 10, 17, 11, 16, 12, 9, 20, 14, 12, 9, 14, 15, 8, 8, 13, 12, 11, 12, 13, 11, 17, 20, 15, 9, 12, 13, 15, 17, 11, 13, 11, 13, 11, 11, 8, 19, 20, 14, 21, 7, 11, 13, 16, 8, 10, 16, 14, 20, 11, 11, 11, 14, 10, 10, 14, 10, 12, 13, 12, 9, 18, 11, 11, 11, 11, 17, 13, 14, 17, 14, 11, 9, 12, 11, 12, 13, 13, 20, 13, 14, 9, 9, 17, 18, 18, 7, 17, 9, 11, 22, 11, 14, 8, 13, 11, 17, 16, 20, 12, 10, 11, 13, 11, 11, 11, 11, 13, 11, 13, 17, 15, 15, 15, 19, 9, 11, 11, 11, 12, 10, 13, 13, 12, 19, 13, 16, 9, 9, 9, 12, 12, 10, 13, 19, 10, 11, 11, 9, 17, 17, 17, 14, 11, 15, 7, 11, 10, 11, 11, 11, 13, 14, 10, 11, 12, 11, 11, 15, 16, 12, 9, 20, 13, 12, 12, 16, 12, 17, 9, 11, 12, 16, 13, 12, 11, 17, 11, 7, 15, 17, 11, 11, 15, 14, 14, 14, 14, 15, 14, 14, 15, 11, 12, 13, 11, 10, 11, 10, 15, 14, 11, 10, 15, 14, 13, 10, 11, 19, 11, 12, 11, 15, 14, 10, 11, 11, 11, 11, 8, 11, 10, 8, 12, 20, 14, 17, 16, 20, 10, 15, 12, 19, 11, 7, 11, 16, 9, 12, 11, 11, 9, 19, 12, 12, 11, 13, 17, 19, 11, 15, 10, 8, 9, 11, 7, 13, 13, 11, 18, 18, 18, 19, 18, 21, 9, 22, 21, 7, 22, 10, 8, 11, 11, 17, 7, 13, 16, 13, 12, 13, 13, 16, 11, 11, 16, 10, 11, 19, 11, 16, 19, 18, 17, 18, 11, 10, 7, 8, 11, 7, 9, 9, 17, 8, 12, 11, 7, 12, 12, 13, 9, 9, 10, 15, 14, 15, 7, 17, 14, 11, 11, 13, 13, 13, 10, 12, 11, 7, 9, 13, 11, 19, 11, 9, 10, 19, 8, 18, 8, 13, 13, 17, 14, 18, 9, 9, 10, 10, 13, 18, 11, 14, 11, 11, 21, 8, 15, 9, 20, 19, 11, 20, 12, 18, 7, 13, 12, 21, 8, 11, 11, 14, 15, 15, 14, 9, 11, 11, 11, 13, 11, 10, 18, 13, 13, 17, 13, 10, 9, 16, 14, 14, 10, 17, 17, 14, 13, 15, 16, 13, 11, 13, 7, 14, 17, 9, 14, 14, 16, 13, 7, 15, 17, 7, 7, 21, 17, 17, 7, 11, 20, 7, 12, 12, 12, 22, 12, 22, 14, 15, 20, 12, 13, 22, 11, 11, 11, 17, 10, 13, 11, 13, 13, 17, 17, 12, 10, 13, 11, 8, 7, 7, 16, 8, 7, 18, 19, 16, 16, 13, 12, 8, 16, 16, 11, 19, 11, 22, 20, 22, 14, 17, 12, 13, 16, 11, 13, 18, 9, 22, 15, 15, 11, 11, 13, 9, 11, 19, 12, 11, 13, 19, 22, 20, 17, 12, 25, 24, 20, 8, 12, 14, 15, 13, 14, 11, 16, 13, 11, 16, 22, 14, 11, 10, 16, 7, 11, 22, 17, 10, 17, 10, 17, 11, 10, 12, 11, 7, 11, 10, 19, 18, 16, 16, 7, 19, 11, 13, 12, 11, 11, 17, 21, 17, 15, 11, 12, 14, 11, 19, 9, 9, 9, 15, 22, 11, 22, 15, 12, 19, 14, 9, 24, 12, 13, 18, 16, 20, 11, 19, 14, 20, 12], \"name\": \"Expressed TF\"}], {\"yaxis\": {\"title\": \"Number of TF with Length\"}, \"title\": \"TF Length Histogram after running tf_expression.py\", \"xaxis\": {\"gridwidth\": 2, \"zeroline\": false, \"ticklen\": 5, \"title\": \"TF Length\"}}, {\"showLink\": true, \"linkText\": \"Export to plot.ly\"})});</script>"
      ],
      "text/plain": [
       "<IPython.core.display.HTML object>"
      ]
     },
     "metadata": {},
     "output_type": "display_data"
    },
    {
     "data": {
      "text/html": [
       "<div id=\"1ff516da-8b30-4721-be96-55f6434bb3e2\" style=\"height: 525px; width: 100%;\" class=\"plotly-graph-div\"></div><script type=\"text/javascript\">require([\"plotly\"], function(Plotly) { window.PLOTLYENV=window.PLOTLYENV || {};window.PLOTLYENV.BASE_URL=\"https://plot.ly\";Plotly.newPlot(\"1ff516da-8b30-4721-be96-55f6434bb3e2\", [{\"opacity\": 0.75, \"type\": \"histogram\", \"x\": [9, 18, 12, 11, 12, 17, 15, 10, 14, 14, 22, 7, 13, 12, 8, 13, 14, 11, 9, 9, 12, 11, 11, 13, 13, 18, 17, 10, 12, 18, 10, 17, 11, 16, 11, 13, 12, 9, 20, 14, 12, 25, 9, 14, 15, 8, 8, 13, 12, 11, 12, 13, 11, 17, 20, 15, 9, 12, 13, 15, 17, 11, 13, 11, 13, 11, 11, 8, 19, 20, 14, 21, 7, 11, 13, 16, 8, 10, 16, 14, 15, 20, 11, 11, 11, 14, 10, 10, 14, 10, 12, 13, 12, 9, 18, 11, 11, 11, 11, 17, 13, 14, 17, 14, 11, 9, 12, 11, 12, 12, 13, 12, 13, 20, 13, 14, 9, 9, 17, 18, 18, 7, 17, 9, 11, 22, 11, 14, 8, 13, 11, 17, 16, 20, 12, 10, 11, 13, 11, 11, 11, 11, 13, 11, 13, 17, 15, 15, 15, 19, 9, 11, 11, 17, 11, 12, 10, 13, 13, 12, 19, 13, 16, 13, 9, 13, 9, 9, 12, 12, 10, 13, 19, 10, 11, 11, 9, 17, 14, 7, 17, 17, 14, 11, 15, 7, 11, 10, 11, 11, 11, 13, 14, 10, 11, 12, 11, 11, 15, 16, 12, 9, 20, 13, 12, 12, 16, 12, 17, 9, 11, 12, 16, 13, 12, 11, 17, 11, 7, 15, 17, 11, 11, 15, 14, 14, 14, 14, 15, 14, 14, 15, 12, 11, 12, 13, 11, 10, 11, 10, 15, 14, 11, 10, 15, 14, 13, 10, 11, 19, 11, 12, 11, 15, 14, 10, 11, 11, 11, 11, 8, 11, 10, 11, 8, 12, 20, 14, 17, 16, 20, 10, 15, 12, 19, 11, 7, 11, 16, 9, 12, 11, 11, 9, 19, 12, 12, 11, 13, 17, 19, 11, 15, 10, 8, 9, 11, 7, 13, 13, 11, 18, 18, 18, 19, 18, 21, 9, 22, 21, 7, 22, 10, 8, 11, 22, 11, 17, 7, 13, 16, 13, 12, 13, 13, 11, 16, 11, 11, 16, 10, 11, 19, 11, 16, 19, 18, 7, 17, 18, 11, 10, 7, 8, 11, 7, 9, 13, 9, 17, 8, 12, 11, 7, 12, 12, 13, 9, 9, 10, 15, 14, 15, 7, 17, 14, 11, 11, 13, 13, 14, 13, 10, 12, 11, 7, 9, 13, 11, 19, 11, 9, 11, 10, 14, 19, 14, 19, 8, 18, 8, 13, 13, 17, 14, 18, 9, 9, 10, 10, 13, 18, 11, 14, 11, 11, 21, 12, 8, 15, 9, 20, 16, 19, 11, 20, 12, 17, 18, 7, 13, 12, 21, 8, 11, 11, 14, 15, 15, 14, 9, 11, 11, 11, 13, 11, 10, 18, 13, 13, 17, 13, 10, 9, 16, 14, 14, 10, 17, 17, 14, 13, 15, 16, 13, 11, 13, 7, 14, 17, 9, 14, 14, 16, 13, 7, 15, 17, 7, 7, 21, 17, 17, 7, 11, 20, 7, 12, 12, 12, 22, 12, 22, 14, 15, 20, 11, 12, 13, 22, 11, 11, 11, 17, 10, 13, 11, 13, 13, 17, 17, 12, 12, 10, 13, 11, 8, 7, 7, 16, 8, 7, 18, 19, 16, 16, 16, 13, 12, 8, 16, 16, 11, 19, 11, 22, 20, 22, 14, 17, 12, 13, 16, 11, 13, 18, 9, 11, 11, 22, 15, 15, 11, 11, 13, 9, 11, 19, 12, 11, 13, 19, 22, 20, 17, 12, 25, 24, 20, 8, 12, 14, 15, 13, 14, 15, 11, 16, 13, 11, 16, 22, 14, 11, 10, 9, 16, 7, 11, 22, 17, 10, 17, 10, 17, 11, 10, 12, 11, 7, 11, 10, 19, 18, 16, 16, 7, 19, 14, 11, 13, 12, 11, 13, 14, 11, 17, 21, 17, 15, 13, 11, 12, 14, 11, 19, 9, 9, 9, 15, 22, 11, 22, 15, 12, 19, 14, 9, 24, 12, 13, 15, 18, 16, 20, 11, 19, 14, 11, 20, 12], \"name\": \"All TF\"}, {\"opacity\": 0.75, \"type\": \"histogram\", \"x\": [9, 18, 12, 11, 12, 17, 15, 10, 14, 14, 22, 7, 13, 12, 8, 13, 14, 11, 9, 9, 12, 11, 11, 13, 13, 18, 17, 10, 12, 18, 10, 17, 11, 16, 12, 9, 20, 14, 12, 9, 14, 15, 8, 8, 13, 12, 11, 12, 13, 11, 17, 20, 15, 9, 12, 13, 15, 17, 11, 13, 11, 13, 11, 11, 8, 19, 20, 14, 21, 7, 11, 13, 16, 8, 10, 16, 14, 20, 11, 11, 11, 14, 10, 10, 14, 10, 12, 13, 12, 9, 18, 11, 11, 11, 11, 17, 13, 14, 17, 14, 11, 9, 12, 11, 12, 13, 13, 20, 13, 14, 9, 9, 17, 18, 18, 7, 17, 9, 11, 22, 11, 14, 8, 13, 11, 17, 16, 20, 12, 10, 11, 13, 11, 11, 11, 11, 13, 11, 13, 17, 15, 15, 15, 19, 9, 11, 11, 11, 12, 10, 13, 13, 12, 19, 13, 16, 9, 9, 9, 12, 12, 10, 13, 19, 10, 11, 11, 9, 17, 17, 17, 14, 11, 15, 7, 11, 10, 11, 11, 11, 13, 14, 10, 11, 12, 11, 11, 15, 16, 12, 9, 20, 13, 12, 12, 16, 12, 17, 9, 11, 12, 16, 13, 12, 11, 17, 11, 7, 15, 17, 11, 11, 15, 14, 14, 14, 14, 15, 14, 14, 15, 11, 12, 13, 11, 10, 11, 10, 15, 14, 11, 10, 15, 14, 13, 10, 11, 19, 11, 12, 11, 15, 14, 10, 11, 11, 11, 11, 8, 11, 10, 8, 12, 20, 14, 17, 16, 20, 10, 15, 12, 19, 11, 7, 11, 16, 9, 12, 11, 11, 9, 19, 12, 12, 11, 13, 17, 19, 11, 15, 10, 8, 9, 11, 7, 13, 13, 11, 18, 18, 18, 19, 18, 21, 9, 22, 21, 7, 22, 10, 8, 11, 11, 17, 7, 13, 16, 13, 12, 13, 13, 16, 11, 11, 16, 10, 11, 19, 11, 16, 19, 18, 17, 18, 11, 10, 7, 8, 11, 7, 9, 9, 17, 8, 12, 11, 7, 12, 12, 13, 9, 9, 10, 15, 14, 15, 7, 17, 14, 11, 11, 13, 13, 13, 10, 12, 11, 7, 9, 13, 11, 19, 11, 9, 10, 19, 8, 18, 8, 13, 13, 17, 14, 18, 9, 9, 10, 10, 13, 18, 11, 14, 11, 11, 21, 8, 15, 9, 20, 19, 11, 20, 12, 18, 7, 13, 12, 21, 8, 11, 11, 14, 15, 15, 14, 9, 11, 11, 11, 13, 11, 10, 18, 13, 13, 17, 13, 10, 9, 16, 14, 14, 10, 17, 17, 14, 13, 15, 16, 13, 11, 13, 7, 14, 17, 9, 14, 14, 16, 13, 7, 15, 17, 7, 7, 21, 17, 17, 7, 11, 20, 7, 12, 12, 12, 22, 12, 22, 14, 15, 20, 12, 13, 22, 11, 11, 11, 17, 10, 13, 11, 13, 13, 17, 17, 12, 10, 13, 11, 8, 7, 7, 16, 8, 7, 18, 19, 16, 16, 13, 12, 8, 16, 16, 11, 19, 11, 22, 20, 22, 14, 17, 12, 13, 16, 11, 13, 18, 9, 22, 15, 15, 11, 11, 13, 9, 11, 19, 12, 11, 13, 19, 22, 20, 17, 12, 25, 24, 20, 8, 12, 14, 15, 13, 14, 11, 16, 13, 11, 16, 22, 14, 11, 10, 16, 7, 11, 22, 17, 10, 17, 10, 17, 11, 10, 12, 11, 7, 11, 10, 19, 18, 16, 16, 7, 19, 11, 13, 12, 11, 11, 17, 21, 17, 15, 11, 12, 14, 11, 19, 9, 9, 9, 15, 22, 11, 22, 15, 12, 19, 14, 9, 24, 12, 13, 18, 16, 20, 11, 19, 14, 20, 12], \"name\": \"Expressed TF\"}], {\"barmode\": \"overlay\", \"yaxis\": {\"title\": \"Number of TF with Length\"}, \"title\": \"TF Length Histogram comparison tf_expression.py dropped\", \"xaxis\": {\"gridwidth\": 2, \"zeroline\": false, \"ticklen\": 5, \"title\": \"TF Length\"}}, {\"showLink\": true, \"linkText\": \"Export to plot.ly\"})});</script>"
      ],
      "text/plain": [
       "<IPython.core.display.HTML object>"
      ]
     },
     "metadata": {},
     "output_type": "display_data"
    }
   ],
   "source": [
    "# repeating graph setup using reproducible code\n",
    "# ref: https://plot.ly/python/histograms/\n",
    "\n",
    "# -- setup the layout information to reuse\n",
    "xaxis_template = {\n",
    "        'title':'TF Length',\n",
    "        'ticklen':5,\n",
    "        'zeroline':False,\n",
    "        'gridwidth':2,\n",
    "    }\n",
    "yaxis_template ={'title':'Number of TF with Length'}\n",
    "\n",
    "# -- plot 1\n",
    "hist_all_TF = plotly.graph_objs.Histogram(\n",
    "        name='All TF',\n",
    "        x=motif_lengths_base,\n",
    "        opacity=0.75\n",
    "    )\n",
    "layout = plotly.graph_objs.Layout(\n",
    "    title='TF Length Histogram (all TF)',\n",
    "    xaxis=xaxis_template,\n",
    "    yaxis=yaxis_template\n",
    "    )\n",
    "\n",
    "go_figure = plotly.graph_objs.Figure(data=[hist_all_TF], layout=layout)\n",
    "plotly.offline.iplot(go_figure)\n",
    "\n",
    "# -- plot 2\n",
    "hist_expressed_TF = plotly.graph_objs.Histogram(\n",
    "        name='Expressed TF',\n",
    "        x=motif_lengths_expressed,\n",
    "        opacity=0.75\n",
    "    )\n",
    "layout = plotly.graph_objs.Layout(\n",
    "    title='TF Length Histogram after running tf_expression.py',\n",
    "    xaxis=xaxis_template,\n",
    "    yaxis=yaxis_template\n",
    "    )\n",
    "\n",
    "go_figure = plotly.graph_objs.Figure(data=[hist_expressed_TF], layout=layout)\n",
    "plotly.offline.iplot(go_figure)\n",
    "\n",
    "# -- plot overlay\n",
    "layout = plotly.graph_objs.Layout(\n",
    "    title='TF Length Histogram comparison tf_expression.py dropped',\n",
    "    xaxis=xaxis_template,\n",
    "    yaxis=yaxis_template,\n",
    "    barmode='overlay'\n",
    "    )\n",
    "go_figure = plotly.graph_objs.Figure(data=[hist_all_TF, hist_expressed_TF], layout=layout)\n",
    "plotly.offline.iplot(go_figure)\n",
    "\n"
   ]
  },
  {
   "cell_type": "code",
   "execution_count": 61,
   "metadata": {
    "collapsed": false
   },
   "outputs": [
    {
     "name": "stdout",
     "output_type": "stream",
     "text": [
      "Help on PlotlyDict in module plotly.graph_objs.graph_objs object:\n",
      "\n",
      "class PlotlyDict(builtins.dict, PlotlyBase)\n",
      " |  Base class for dict-like Plotly objects.\n",
      " |  \n",
      " |  Method resolution order:\n",
      " |      PlotlyDict\n",
      " |      builtins.dict\n",
      " |      PlotlyBase\n",
      " |      builtins.object\n",
      " |  \n",
      " |  Methods defined here:\n",
      " |  \n",
      " |  __copy__(self)\n",
      " |  \n",
      " |  __deepcopy__(self, memodict={})\n",
      " |  \n",
      " |  __dir__(self)\n",
      " |      Dynamically return the existing and possible attributes.\n",
      " |  \n",
      " |  __getattr__(self, key)\n",
      " |      Python only calls this when key is missing!\n",
      " |  \n",
      " |  __getitem__(self, key)\n",
      " |      Calls __missing__ when key is not found. May mutate object.\n",
      " |  \n",
      " |  __init__(self, *args, **kwargs)\n",
      " |      Initialize self.  See help(type(self)) for accurate signature.\n",
      " |  \n",
      " |  __missing__(self, key)\n",
      " |      Mimics defaultdict. This is called from __getitem__ when key DNE.\n",
      " |  \n",
      " |  __setattr__(self, key, value)\n",
      " |      Maps __setattr__ onto __setitem__\n",
      " |  \n",
      " |  __setitem__(self, key, value, _raise=True)\n",
      " |      Validates/Converts values which should be Graph Objects.\n",
      " |  \n",
      " |  force_clean(self, **kwargs)\n",
      " |      Recursively remove empty/None values.\n",
      " |  \n",
      " |  get_data(self, flatten=False)\n",
      " |      Returns the JSON for the plot with non-data elements stripped.\n",
      " |  \n",
      " |  get_ordered(self, **kwargs)\n",
      " |      Return a predictable, OrderedDict version of self.\n",
      " |  \n",
      " |  help(self, attribute=None, return_help=False)\n",
      " |      Print help string for this object or an attribute of this object.\n",
      " |      \n",
      " |      :param (str) attribute: A valid attribute string for this object.\n",
      " |      :param (bool) return_help: Return help_string instead of printing it?\n",
      " |      :return: (None|str)\n",
      " |  \n",
      " |  strip_style(self)\n",
      " |      Recursively strip style from the current representation.\n",
      " |      \n",
      " |      All PlotlyDicts and PlotlyLists are guaranteed to survive the\n",
      " |      stripping process, though they made be left empty. This is allowable.\n",
      " |      \n",
      " |      Keys that will be stripped in this process are tagged with\n",
      " |      `'type': 'style'` in graph_objs_meta.json. Note that a key tagged as\n",
      " |      style, but with an array as a value may still be considered data.\n",
      " |  \n",
      " |  to_string(self, level=0, indent=4, eol='\\n', pretty=True, max_chars=80)\n",
      " |      Returns a formatted string showing graph_obj constructors.\n",
      " |      \n",
      " |      :param (int) level: The number of indentations to start with.\n",
      " |      :param (int) indent: The indentation amount.\n",
      " |      :param (str) eol: The end of line character(s).\n",
      " |      :param (bool) pretty: Curtail long list output with a '..' ?\n",
      " |      :param (int) max_chars: The max characters per line.\n",
      " |      \n",
      " |      Example:\n",
      " |      \n",
      " |          print(obj.to_string())\n",
      " |  \n",
      " |  update(self, dict1=None, **dict2)\n",
      " |      Update current dict with dict1 and then dict2.\n",
      " |      \n",
      " |      This recursively updates the structure of the original dictionary-like\n",
      " |      object with the new entries in the second and third objects. This\n",
      " |      allows users to update with large, nested structures.\n",
      " |      \n",
      " |      Note, because the dict2 packs up all the keyword arguments, you can\n",
      " |      specify the changes as a list of keyword agruments.\n",
      " |      \n",
      " |      Examples:\n",
      " |      # update with dict\n",
      " |      obj = Layout(title='my title', xaxis=XAxis(range=[0,1], domain=[0,1]))\n",
      " |      update_dict = dict(title='new title', xaxis=dict(domain=[0,.8]))\n",
      " |      obj.update(update_dict)\n",
      " |      obj\n",
      " |      {'title': 'new title', 'xaxis': {'range': [0,1], 'domain': [0,.8]}}\n",
      " |      \n",
      " |      # update with list of keyword arguments\n",
      " |      obj = Layout(title='my title', xaxis=XAxis(range=[0,1], domain=[0,1]))\n",
      " |      obj.update(title='new title', xaxis=dict(domain=[0,.8]))\n",
      " |      obj\n",
      " |      {'title': 'new title', 'xaxis': {'range': [0,1], 'domain': [0,.8]}}\n",
      " |      \n",
      " |      This 'fully' supports duck-typing in that the call signature is\n",
      " |      identical, however this differs slightly from the normal update\n",
      " |      method provided by Python's dictionaries.\n",
      " |  \n",
      " |  ----------------------------------------------------------------------\n",
      " |  Data descriptors defined here:\n",
      " |  \n",
      " |  __dict__\n",
      " |      dictionary for instance variables (if defined)\n",
      " |  \n",
      " |  __weakref__\n",
      " |      list of weak references to the object (if defined)\n",
      " |  \n",
      " |  ----------------------------------------------------------------------\n",
      " |  Methods inherited from builtins.dict:\n",
      " |  \n",
      " |  __contains__(self, key, /)\n",
      " |      True if D has a key k, else False.\n",
      " |  \n",
      " |  __delitem__(self, key, /)\n",
      " |      Delete self[key].\n",
      " |  \n",
      " |  __eq__(self, value, /)\n",
      " |      Return self==value.\n",
      " |  \n",
      " |  __ge__(self, value, /)\n",
      " |      Return self>=value.\n",
      " |  \n",
      " |  __getattribute__(self, name, /)\n",
      " |      Return getattr(self, name).\n",
      " |  \n",
      " |  __gt__(self, value, /)\n",
      " |      Return self>value.\n",
      " |  \n",
      " |  __iter__(self, /)\n",
      " |      Implement iter(self).\n",
      " |  \n",
      " |  __le__(self, value, /)\n",
      " |      Return self<=value.\n",
      " |  \n",
      " |  __len__(self, /)\n",
      " |      Return len(self).\n",
      " |  \n",
      " |  __lt__(self, value, /)\n",
      " |      Return self<value.\n",
      " |  \n",
      " |  __ne__(self, value, /)\n",
      " |      Return self!=value.\n",
      " |  \n",
      " |  __new__(*args, **kwargs) from builtins.type\n",
      " |      Create and return a new object.  See help(type) for accurate signature.\n",
      " |  \n",
      " |  __repr__(self, /)\n",
      " |      Return repr(self).\n",
      " |  \n",
      " |  __sizeof__(...)\n",
      " |      D.__sizeof__() -> size of D in memory, in bytes\n",
      " |  \n",
      " |  clear(...)\n",
      " |      D.clear() -> None.  Remove all items from D.\n",
      " |  \n",
      " |  copy(...)\n",
      " |      D.copy() -> a shallow copy of D\n",
      " |  \n",
      " |  fromkeys(iterable, value=None, /) from builtins.type\n",
      " |      Returns a new dict with keys from iterable and values equal to value.\n",
      " |  \n",
      " |  get(...)\n",
      " |      D.get(k[,d]) -> D[k] if k in D, else d.  d defaults to None.\n",
      " |  \n",
      " |  items(...)\n",
      " |      D.items() -> a set-like object providing a view on D's items\n",
      " |  \n",
      " |  keys(...)\n",
      " |      D.keys() -> a set-like object providing a view on D's keys\n",
      " |  \n",
      " |  pop(...)\n",
      " |      D.pop(k[,d]) -> v, remove specified key and return the corresponding value.\n",
      " |      If key is not found, d is returned if given, otherwise KeyError is raised\n",
      " |  \n",
      " |  popitem(...)\n",
      " |      D.popitem() -> (k, v), remove and return some (key, value) pair as a\n",
      " |      2-tuple; but raise KeyError if D is empty.\n",
      " |  \n",
      " |  setdefault(...)\n",
      " |      D.setdefault(k[,d]) -> D.get(k,d), also set D[k]=d if k not in D\n",
      " |  \n",
      " |  values(...)\n",
      " |      D.values() -> an object providing a view on D's values\n",
      " |  \n",
      " |  ----------------------------------------------------------------------\n",
      " |  Data and other attributes inherited from builtins.dict:\n",
      " |  \n",
      " |  __hash__ = None\n",
      " |  \n",
      " |  ----------------------------------------------------------------------\n",
      " |  Methods inherited from PlotlyBase:\n",
      " |  \n",
      " |  to_graph_objs(self, **kwargs)\n",
      " |      Everything is cast into graph_objs. Here for backwards compat.\n",
      " |  \n",
      " |  validate(self)\n",
      " |      Everything is *always* validated now. keep for backwards compat.\n",
      "\n"
     ]
    },
    {
     "data": {
      "text/plain": [
       "{'barmode': 'overlay',\n",
       " 'title': 'TF Length Histogram comparison tf_expression.py dropped',\n",
       " 'xaxis': {'gridwidth': 2,\n",
       "  'ticklen': 5,\n",
       "  'title': 'TF Length',\n",
       "  'zeroline': False},\n",
       " 'yaxis': {'title': 'Number of TF with Length'}}"
      ]
     },
     "execution_count": 61,
     "metadata": {},
     "output_type": "execute_result"
    }
   ],
   "source": [
    "help(go_figure.layout)\n",
    "go_figure.layout"
   ]
  },
  {
   "cell_type": "code",
   "execution_count": null,
   "metadata": {
    "collapsed": true
   },
   "outputs": [],
   "source": [
    "# next create a reader that exports motifs=TF, samples, and variant information from the vcf file\n",
    "#   as a python structure\n",
    "#\n",
    "#   get vcf reader for variant elements from motifs.py\n",
    "#   get vcf reader for samples from gene_expression.py\n",
    "#\n",
    "# then do similar and expanded analysis looking at which motifs were selected/exported by variant\n",
    "# could also group by variant type\n",
    "#   a->t, etc\n",
    "#\n"
   ]
  }
 ],
 "metadata": {
  "kernelspec": {
   "display_name": "Python 3",
   "language": "python",
   "name": "python3"
  },
  "language_info": {
   "codemirror_mode": {
    "name": "ipython",
    "version": 3
   },
   "file_extension": ".py",
   "mimetype": "text/x-python",
   "name": "python",
   "nbconvert_exporter": "python",
   "pygments_lexer": "ipython3",
   "version": "3.5.2"
  }
 },
 "nbformat": 4,
 "nbformat_minor": 2
}
